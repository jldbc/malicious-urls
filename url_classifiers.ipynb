{
 "cells": [
  {
   "cell_type": "code",
   "execution_count": 176,
   "metadata": {
    "collapsed": false
   },
   "outputs": [],
   "source": [
    "import pandas as pd\n",
    "import numpy as np\n",
    "import matplotlib.pyplot as plt\n",
    "from sklearn import cross_validation, linear_model\n",
    "from sklearn.linear_model import LogisticRegressionCV\n",
    "from sklearn.cross_validation import KFold\n",
    "from sklearn.cross_validation import train_test_split\n",
    "from sklearn.metrics import confusion_matrix\n",
    "from sklearn.ensemble import RandomForestClassifier\n",
    "from sklearn.preprocessing import StandardScaler\n",
    "from sklearn.svm import LinearSVC\n",
    "import matplotlib.pyplot as plt\n",
    "from sklearn.cross_validation import KFold\n",
    "from sklearn.cross_validation import train_test_split\n",
    "from sklearn.metrics import confusion_matrix\n",
    "%matplotlib inline"
   ]
  },
  {
   "cell_type": "code",
   "execution_count": 4,
   "metadata": {
    "collapsed": false
   },
   "outputs": [],
   "source": [
    "import pickle\n",
    "X = pickle.load(open(\"X_data\", \"rb\")) # X_data and y_data should be in the same directory as you notebook.\n",
    "y = pickle.load(open(\"y_data\", \"rb\"))\n",
    "# we initially attempted scaling, but this did not appear to influence the results \n",
    "#scaler = StandardScaler(with_mean=False).fit(X)\n",
    "#X = scaler.transform(X)"
   ]
  },
  {
   "cell_type": "code",
   "execution_count": 5,
   "metadata": {
    "collapsed": false
   },
   "outputs": [],
   "source": [
    "#set aside test data\n",
    "xtrain, xtest_final, ytrain, ytest_final = train_test_split(X, y, test_size=.25)"
   ]
  },
  {
   "cell_type": "markdown",
   "metadata": {},
   "source": [
    "# Approach One: Logistic Regression with L1 Penalty"
   ]
  },
  {
   "cell_type": "code",
   "execution_count": 6,
   "metadata": {
    "collapsed": false,
    "scrolled": false
   },
   "outputs": [
    {
     "name": "stderr",
     "output_type": "stream",
     "text": [
      "/Users/jamesledoux/anaconda/envs/python3/lib/python3.5/site-packages/sklearn/utils/validation.py:515: DataConversionWarning: A column-vector y was passed when a 1d array was expected. Please change the shape of y to (n_samples, ), for example using ravel().\n",
      "  y = column_or_1d(y, warn=True)\n"
     ]
    }
   ],
   "source": [
    "CVmodel = LogisticRegressionCV(cv=5, penalty='l1', solver='liblinear', n_jobs=-1).fit(xtrain,ytrain)"
   ]
  },
  {
   "cell_type": "code",
   "execution_count": 68,
   "metadata": {
    "collapsed": false
   },
   "outputs": [],
   "source": [
    "Cs = CVmodel.Cs_"
   ]
  },
  {
   "cell_type": "code",
   "execution_count": 61,
   "metadata": {
    "collapsed": false,
    "scrolled": true
   },
   "outputs": [
    {
     "data": {
      "text/plain": [
       "{1.0: array([[ 0.64111415,  0.9302464 ,  0.95821926,  0.97559814,  0.98285918,\n",
       "          0.98571599,  0.98702535,  0.98607309,  0.98476372,  0.95964766],\n",
       "        [ 0.64111415,  0.9273896 ,  0.95441019,  0.96988454,  0.97964528,\n",
       "          0.98547792,  0.98547792,  0.98262112,  0.98309725,  0.95988573],\n",
       "        [ 0.64107143,  0.92809524,  0.95285714,  0.9722619 ,  0.97952381,\n",
       "          0.98488095,  0.98285714,  0.98297619,  0.98285714,  0.95940476],\n",
       "        [ 0.64114776,  0.93106322,  0.95392309,  0.97178236,  0.97964043,\n",
       "          0.98428384,  0.98356947,  0.98273604,  0.98214073,  0.95975711],\n",
       "        [ 0.64114776,  0.93046791,  0.95618526,  0.97428265,  0.98166448,\n",
       "          0.98583165,  0.98476009,  0.9828551 ,  0.98237885,  0.96356709]])}"
      ]
     },
     "execution_count": 61,
     "metadata": {},
     "output_type": "execute_result"
    }
   ],
   "source": [
    "scores = CVmodel.scores_[1.0]"
   ]
  },
  {
   "cell_type": "code",
   "execution_count": 152,
   "metadata": {
    "collapsed": false
   },
   "outputs": [
    {
     "name": "stdout",
     "output_type": "stream",
     "text": [
      "[ 0.35888095  0.07054753  0.04488101  0.02723808  0.01933336  0.01476193\n",
      "  0.01526201  0.01654769  0.01695246  0.03954753]\n"
     ]
    }
   ],
   "source": [
    "cvscores = np.vstack(scores)\n",
    "lista = np.zeros(10)    #number of values in the CV mse list\n",
    "for i in cvscores:\n",
    "    val = 0\n",
    "    for j in i:\n",
    "        lista[val] += j\n",
    "        val += 1\n",
    "for i in range(len(lista)):\n",
    "    lista[i] = lista[i] / 5     #divide sums by number of folds\n",
    "    lista[i] = 1 - lista[i]     #make this mse instead of accuracy \n",
    "print(lista)"
   ]
  },
  {
   "cell_type": "code",
   "execution_count": 99,
   "metadata": {
    "collapsed": false
   },
   "outputs": [
    {
     "data": {
      "text/plain": [
       "array([  1.00000000e-04,   7.74263683e-04,   5.99484250e-03,\n",
       "         4.64158883e-02,   3.59381366e-01,   2.78255940e+00,\n",
       "         2.15443469e+01,   1.66810054e+02,   1.29154967e+03,\n",
       "         1.00000000e+04])"
      ]
     },
     "execution_count": 99,
     "metadata": {},
     "output_type": "execute_result"
    }
   ],
   "source": [
    "Cs"
   ]
  },
  {
   "cell_type": "code",
   "execution_count": 154,
   "metadata": {
    "collapsed": false,
    "scrolled": true
   },
   "outputs": [
    {
     "data": {
      "text/plain": [
       "[<matplotlib.lines.Line2D at 0x11d125b70>]"
      ]
     },
     "execution_count": 154,
     "metadata": {},
     "output_type": "execute_result"
    },
    {
     "data": {
      "image/png": "[encoded data removed]",
      "text/plain": [
       "<matplotlib.figure.Figure at 0x11d00b4e0>"
      ]
     },
     "metadata": {},
     "output_type": "display_data"
    }
   ],
   "source": [
    "import matplotlib.ticker as mtick\n",
    "Cs = [0.00,0.00,.01,.04, .35,2.78, 21.54, 166.81, 1291.54, 10000.00]   #hard coding this in for the graph\n",
    "plt.figure(figsize=(7, 5))\n",
    "plt.xticks(listb, Cs )\n",
    "plt.ylabel('MSE')\n",
    "plt.xlabel('C value')\n",
    "plt.title('Logistic CV Score')\n",
    "plt.plot(listb, lista)"
   ]
  },
  {
   "cell_type": "code",
   "execution_count": 73,
   "metadata": {
    "collapsed": false
   },
   "outputs": [],
   "source": [
    "preds = CVmodel.predict(xtest_final)"
   ]
  },
  {
   "cell_type": "code",
   "execution_count": 74,
   "metadata": {
    "collapsed": false,
    "scrolled": true
   },
   "outputs": [
    {
     "name": "stdout",
     "output_type": "stream",
     "text": [
      "confusion matrix: \n",
      "[[8818  123]\n",
      " [  48 5011]]\n"
     ]
    },
    {
     "data": {
      "image/png": "[encoded data removed]",
      "text/plain": [
       "<matplotlib.figure.Figure at 0x1053ca0f0>"
      ]
     },
     "metadata": {},
     "output_type": "display_data"
    }
   ],
   "source": [
    "def plot_confusion_matrix(cm, title='Confusion matrix', cmap=plt.cm.Blues):\n",
    "    plt.imshow(cm, interpolation='nearest', cmap=cmap)\n",
    "    plt.title(title)\n",
    "    plt.colorbar()\n",
    "    plt.tight_layout()\n",
    "    plt.ylabel('True label')\n",
    "    plt.xlabel('Predicted label')\n",
    "\n",
    "c_mat = confusion_matrix(ytest_final, preds)\n",
    "plot_confusion_matrix(c_mat)\n",
    "print(\"confusion matrix: \")\n",
    "print(str(c_mat))"
   ]
  },
  {
   "cell_type": "code",
   "execution_count": 75,
   "metadata": {
    "collapsed": false
   },
   "outputs": [
    {
     "data": {
      "text/plain": [
       "0.9877857142857143"
      ]
     },
     "execution_count": 75,
     "metadata": {},
     "output_type": "execute_result"
    }
   ],
   "source": [
    "(8818+5011)/(48+123+8818+5011)   #percent accuracy"
   ]
  },
  {
   "cell_type": "markdown",
   "metadata": {
    "collapsed": true
   },
   "source": [
    "# Approach Two: Random Forest Classifier "
   ]
  },
  {
   "cell_type": "code",
   "execution_count": 174,
   "metadata": {
    "collapsed": true
   },
   "outputs": [],
   "source": [
    "X = pickle.load(open(\"X_data\", \"rb\"))\n",
    "y = pickle.load(open(\"y_data\", \"rb\"))\n",
    "xtrain, xtest_final, ytrain, ytest_final = train_test_split(X, y, test_size=.25)\n",
    "x_train, x_test, y_train, y_test = train_test_split(xtrain, ytrain, test_size=.25)"
   ]
  },
  {
   "cell_type": "code",
   "execution_count": 57,
   "metadata": {
    "collapsed": true
   },
   "outputs": [],
   "source": [
    "def plot_confusion_matrix(cm, title='Confusion Matrix', cmap=plt.cm.Blues):\n",
    "    plt.imshow(cm, interpolation='nearest', cmap=cmap)\n",
    "    plt.title(title)\n",
    "    plt.colorbar()\n",
    "    plt.tight_layout()\n",
    "    plt.ylabel('True label')\n",
    "    plt.xlabel('Predicted label')"
   ]
  },
  {
   "cell_type": "code",
   "execution_count": 58,
   "metadata": {
    "collapsed": false,
    "scrolled": true
   },
   "outputs": [
    {
     "name": "stderr",
     "output_type": "stream",
     "text": [
      "/Users/jamesledoux/anaconda/envs/python3/lib/python3.5/site-packages/ipykernel/__main__.py:7: DataConversionWarning: A column-vector y was passed when a 1d array was expected. Please change the shape of y to (n_samples,), for example using ravel().\n",
      "/Users/jamesledoux/anaconda/envs/python3/lib/python3.5/site-packages/ipykernel/__main__.py:7: DataConversionWarning: A column-vector y was passed when a 1d array was expected. Please change the shape of y to (n_samples,), for example using ravel().\n"
     ]
    },
    {
     "name": "stdout",
     "output_type": "stream",
     "text": [
      "0.065306122449\n",
      "0.0247448979592\n",
      "0.0257653061224"
     ]
    },
    {
     "name": "stderr",
     "output_type": "stream",
     "text": [
      "/Users/jamesledoux/anaconda/envs/python3/lib/python3.5/site-packages/ipykernel/__main__.py:7: DataConversionWarning: A column-vector y was passed when a 1d array was expected. Please change the shape of y to (n_samples,), for example using ravel().\n",
      "/Users/jamesledoux/anaconda/envs/python3/lib/python3.5/site-packages/ipykernel/__main__.py:7: DataConversionWarning: A column-vector y was passed when a 1d array was expected. Please change the shape of y to (n_samples,), for example using ravel().\n"
     ]
    },
    {
     "name": "stdout",
     "output_type": "stream",
     "text": [
      "\n",
      "0.0295918367347\n",
      "0.060119047619"
     ]
    },
    {
     "name": "stderr",
     "output_type": "stream",
     "text": [
      "/Users/jamesledoux/anaconda/envs/python3/lib/python3.5/site-packages/ipykernel/__main__.py:7: DataConversionWarning: A column-vector y was passed when a 1d array was expected. Please change the shape of y to (n_samples,), for example using ravel().\n",
      "/Users/jamesledoux/anaconda/envs/python3/lib/python3.5/site-packages/ipykernel/__main__.py:7: DataConversionWarning: A column-vector y was passed when a 1d array was expected. Please change the shape of y to (n_samples,), for example using ravel().\n"
     ]
    },
    {
     "name": "stdout",
     "output_type": "stream",
     "text": [
      "\n",
      "0.0251700680272\n",
      "0.0269557823129"
     ]
    },
    {
     "name": "stderr",
     "output_type": "stream",
     "text": [
      "/Users/jamesledoux/anaconda/envs/python3/lib/python3.5/site-packages/ipykernel/__main__.py:7: DataConversionWarning: A column-vector y was passed when a 1d array was expected. Please change the shape of y to (n_samples,), for example using ravel().\n",
      "/Users/jamesledoux/anaconda/envs/python3/lib/python3.5/site-packages/ipykernel/__main__.py:7: DataConversionWarning: A column-vector y was passed when a 1d array was expected. Please change the shape of y to (n_samples,), for example using ravel().\n"
     ]
    },
    {
     "name": "stdout",
     "output_type": "stream",
     "text": [
      "\n",
      "0.0258503401361\n",
      "0.059693877551"
     ]
    },
    {
     "name": "stderr",
     "output_type": "stream",
     "text": [
      "/Users/jamesledoux/anaconda/envs/python3/lib/python3.5/site-packages/ipykernel/__main__.py:7: DataConversionWarning: A column-vector y was passed when a 1d array was expected. Please change the shape of y to (n_samples,), for example using ravel().\n",
      "/Users/jamesledoux/anaconda/envs/python3/lib/python3.5/site-packages/ipykernel/__main__.py:7: DataConversionWarning: A column-vector y was passed when a 1d array was expected. Please change the shape of y to (n_samples,), for example using ravel().\n"
     ]
    },
    {
     "name": "stdout",
     "output_type": "stream",
     "text": [
      "\n",
      "0.0268707482993\n",
      "0.0261904761905"
     ]
    },
    {
     "name": "stderr",
     "output_type": "stream",
     "text": [
      "/Users/jamesledoux/anaconda/envs/python3/lib/python3.5/site-packages/ipykernel/__main__.py:7: DataConversionWarning: A column-vector y was passed when a 1d array was expected. Please change the shape of y to (n_samples,), for example using ravel().\n",
      "/Users/jamesledoux/anaconda/envs/python3/lib/python3.5/site-packages/ipykernel/__main__.py:7: DataConversionWarning: A column-vector y was passed when a 1d array was expected. Please change the shape of y to (n_samples,), for example using ravel().\n"
     ]
    },
    {
     "name": "stdout",
     "output_type": "stream",
     "text": [
      "\n",
      "0.0255952380952\n",
      "best n_estimators, depth combo is: (1000, None)\n"
     ]
    }
   ],
   "source": [
    "best_i = None\n",
    "best_j = None\n",
    "best_mse = float('inf')\n",
    "for i in [100, 500, 1000]:\n",
    "    for j in [100, 500, 1000, None]:\n",
    "        classifier = RandomForestClassifier(n_estimators = i, n_jobs=3,max_depth = j)\n",
    "        model = classifier.fit(x_train, y_train)\n",
    "        predictions = model.predict(x_test)\n",
    "        predictions = pd.DataFrame(predictions)\n",
    "        #confusion_matrix = confusion_matrix(y_test, predictions)\n",
    "        residuals = abs(predictions.as_matrix() - y_test)\n",
    "        mse = np.mean(residuals)\n",
    "        if mse < best_mse:\n",
    "            best_mse - mse\n",
    "            best_i = i \n",
    "            best_j = j\n",
    "        print (str(mse))\n",
    "\n",
    "\n",
    "        \n",
    "print('best n_estimators, depth combo is: (' + str(i) + ', ' + str(j) + ')')"
   ]
  },
  {
   "cell_type": "code",
   "execution_count": 150,
   "metadata": {
    "collapsed": false
   },
   "outputs": [
    {
     "data": {
      "text/plain": [
       "<matplotlib.legend.Legend at 0x11cd35278>"
      ]
     },
     "execution_count": 150,
     "metadata": {},
     "output_type": "execute_result"
    },
    {
     "data": {
      "image/png": "[encoded data removed]",
      "text/plain": [
       "<matplotlib.figure.Figure at 0x11ca28a90>"
      ]
     },
     "metadata": {},
     "output_type": "display_data"
    }
   ],
   "source": [
    "n_features_depth100 = [100, 500, 1000]\n",
    "n_features_depth500 = [100, 500, 1000]\n",
    "n_features_depth1000 = [100, 500, 1000]\n",
    "n_features_depthNone = [100, 500, 1000]\n",
    "mses100 = [0.065306122449,0.060119047619,0.059693877551]\n",
    "mses500 = [0.0247448979592,0.0251700680272,0.0268707482993]\n",
    "mses1000 = [0.0257653061224,0.0269557823129,0.0261904761905]\n",
    "msesNone = [0.0295918367347,0.0258503401361,0.0255952380952]\n",
    "\n",
    "plt.figure(figsize=(7, 5))\n",
    "#plt.ax.xaxis.set_major_formatter(mtick.FormatStrFormatter('%.2f'))\n",
    "plt.ylabel('MSE')\n",
    "plt.xlabel('n_estimators')\n",
    "plt.title('Random Forest Model Comparisons')\n",
    "plt.plot(n_features_depth100, mses100, label='depth 100')\n",
    "plt.plot(n_features_depth500, mses500, label='depth 500')\n",
    "plt.plot(n_features_depth1000, mses1000, label='depth 1000')\n",
    "plt.plot(n_features_depthNone, msesNone, label='no max depth')\n",
    "plt.xticks(n_features_depth100,(100,500,1000))\n",
    "plt.legend(loc=7)"
   ]
  },
  {
   "cell_type": "code",
   "execution_count": 59,
   "metadata": {
    "collapsed": false
   },
   "outputs": [
    {
     "name": "stdout",
     "output_type": "stream",
     "text": [
      "1000\n",
      "None\n"
     ]
    }
   ],
   "source": [
    "print(best_i)\n",
    "print(best_j)"
   ]
  },
  {
   "cell_type": "code",
   "execution_count": 175,
   "metadata": {
    "collapsed": false
   },
   "outputs": [
    {
     "name": "stdout",
     "output_type": "stream",
     "text": [
      "final mse is: 0.022857142857142857\n",
      "model is 0.9771428571428571percent accurate\n"
     ]
    },
    {
     "name": "stderr",
     "output_type": "stream",
     "text": [
      "/Users/jamesledoux/anaconda/envs/python3/lib/python3.5/site-packages/ipykernel/__main__.py:3: DataConversionWarning: A column-vector y was passed when a 1d array was expected. Please change the shape of y to (n_samples,), for example using ravel().\n",
      "  app.launch_new_instance()\n"
     ]
    }
   ],
   "source": [
    "#classifier = RandomForestClassifier(n_estimators = 1000, n_jobs=-1)\n",
    "classifier = RandomForestClassifier(n_estimators = best_i, max_depth = best_j,n_jobs=-1)\n",
    "model = classifier.fit(xtrain, ytrain)\n",
    "ys = pd.DataFrame(ytest_final.tolist())[0]\n",
    "preds = model.predict(xtest_final)\n",
    "preds = pd.DataFrame(preds.tolist())[0]\n",
    "resids = abs(preds - ys)\n",
    "mse = np.mean(resids)\n",
    "acc_pct = 1 - mse\n",
    "print(\"final mse is: \" + str(mse))\n",
    "print(\"model is \" + str(acc_pct) + \"percent accurate\")"
   ]
  },
  {
   "cell_type": "code",
   "execution_count": 157,
   "metadata": {
    "collapsed": false
   },
   "outputs": [
    {
     "name": "stdout",
     "output_type": "stream",
     "text": [
      "final mse is: 0.021547619047619048\n",
      "model is 0.978452380952381percent accurate\n"
     ]
    }
   ],
   "source": [
    "ys = pd.DataFrame(ytest_final.tolist())[0]\n",
    "preds = model.predict(xtest_final)\n",
    "preds = pd.DataFrame(preds.tolist())[0]\n",
    "resids = abs(preds - ys)\n",
    "mse = np.mean(resids)\n",
    "acc_pct = 1 - mse\n",
    "print(\"final mse is: \" + str(mse))\n",
    "print(\"model is \" + str(acc_pct) + \" percent accurate\")"
   ]
  },
  {
   "cell_type": "code",
   "execution_count": 177,
   "metadata": {
    "collapsed": false
   },
   "outputs": [
    {
     "name": "stdout",
     "output_type": "stream",
     "text": [
      "confusion matrix: \n",
      "[[8835  117]\n",
      " [ 203 4845]]\n"
     ]
    },
    {
     "data": {
      "image/png": "[encoded data removed]",
      "text/plain": [
       "<matplotlib.figure.Figure at 0x11d42ca20>"
      ]
     },
     "metadata": {},
     "output_type": "display_data"
    }
   ],
   "source": [
    "def plot_confusion_matrix(cm, title='Confusion matrix', cmap=plt.cm.Blues):\n",
    "    plt.imshow(cm, interpolation='nearest', cmap=cmap)\n",
    "    plt.title(title)\n",
    "    plt.colorbar()\n",
    "    plt.tight_layout()\n",
    "    plt.ylabel('True label')\n",
    "    plt.xlabel('Predicted label')\n",
    "    \n",
    "preds = model.predict(xtest_final)\n",
    "c_mat = confusion_matrix(np.asarray(ys), np.asarray(preds))\n",
    "plot_confusion_matrix(c_mat)\n",
    "print(\"confusion matrix: \")\n",
    "print(str(c_mat))\n"
   ]
  },
  {
   "cell_type": "markdown",
   "metadata": {
    "collapsed": true
   },
   "source": [
    "# Approach Three: Support Vector Machines"
   ]
  },
  {
   "cell_type": "code",
   "execution_count": 64,
   "metadata": {
    "collapsed": false
   },
   "outputs": [],
   "source": [
    "c_values = [.8, .9, 1, 1.1, 1.2, 1.3]\n",
    "cv = KFold(n=xtrain.shape[0], n_folds = 5)"
   ]
  },
  {
   "cell_type": "code",
   "execution_count": 65,
   "metadata": {
    "collapsed": false,
    "scrolled": true
   },
   "outputs": [
    {
     "name": "stderr",
     "output_type": "stream",
     "text": [
      "/Users/jamesledoux/anaconda/envs/python3/lib/python3.5/site-packages/sklearn/utils/validation.py:515: DataConversionWarning: A column-vector y was passed when a 1d array was expected. Please change the shape of y to (n_samples, ), for example using ravel().\n",
      "  y = column_or_1d(y, warn=True)\n",
      "/Users/jamesledoux/anaconda/envs/python3/lib/python3.5/site-packages/sklearn/utils/validation.py:515: DataConversionWarning: A column-vector y was passed when a 1d array was expected. Please change the shape of y to (n_samples, ), for example using ravel().\n",
      "  y = column_or_1d(y, warn=True)\n"
     ]
    },
    {
     "name": "stdout",
     "output_type": "stream",
     "text": [
      "done with model where C = 0.8 with MSE 0.0147619047619\n",
      "done with model where C = 0.9 with MSE 0.014880952381\n",
      "done with model where C = 1 with MSE 0.015119047619"
     ]
    },
    {
     "name": "stderr",
     "output_type": "stream",
     "text": [
      "/Users/jamesledoux/anaconda/envs/python3/lib/python3.5/site-packages/sklearn/utils/validation.py:515: DataConversionWarning: A column-vector y was passed when a 1d array was expected. Please change the shape of y to (n_samples, ), for example using ravel().\n",
      "  y = column_or_1d(y, warn=True)\n",
      "/Users/jamesledoux/anaconda/envs/python3/lib/python3.5/site-packages/sklearn/utils/validation.py:515: DataConversionWarning: A column-vector y was passed when a 1d array was expected. Please change the shape of y to (n_samples, ), for example using ravel().\n",
      "  y = column_or_1d(y, warn=True)\n"
     ]
    },
    {
     "name": "stdout",
     "output_type": "stream",
     "text": [
      "\n",
      "done with model where C = 1.1 with MSE 0.0154761904762\n",
      "done with model where C = 1.2 with MSE 0.0160714285714"
     ]
    },
    {
     "name": "stderr",
     "output_type": "stream",
     "text": [
      "/Users/jamesledoux/anaconda/envs/python3/lib/python3.5/site-packages/sklearn/utils/validation.py:515: DataConversionWarning: A column-vector y was passed when a 1d array was expected. Please change the shape of y to (n_samples, ), for example using ravel().\n",
      "  y = column_or_1d(y, warn=True)\n",
      "/Users/jamesledoux/anaconda/envs/python3/lib/python3.5/site-packages/sklearn/utils/validation.py:515: DataConversionWarning: A column-vector y was passed when a 1d array was expected. Please change the shape of y to (n_samples, ), for example using ravel().\n",
      "  y = column_or_1d(y, warn=True)\n"
     ]
    },
    {
     "name": "stdout",
     "output_type": "stream",
     "text": [
      "\n",
      "done with model where C = 1.3 with MSE 0.0153571428571\n",
      "done with model where C = 0.8 with MSE 0.0140476190476"
     ]
    },
    {
     "name": "stderr",
     "output_type": "stream",
     "text": [
      "/Users/jamesledoux/anaconda/envs/python3/lib/python3.5/site-packages/sklearn/utils/validation.py:515: DataConversionWarning: A column-vector y was passed when a 1d array was expected. Please change the shape of y to (n_samples, ), for example using ravel().\n",
      "  y = column_or_1d(y, warn=True)\n",
      "/Users/jamesledoux/anaconda/envs/python3/lib/python3.5/site-packages/sklearn/utils/validation.py:515: DataConversionWarning: A column-vector y was passed when a 1d array was expected. Please change the shape of y to (n_samples, ), for example using ravel().\n",
      "  y = column_or_1d(y, warn=True)\n"
     ]
    },
    {
     "name": "stdout",
     "output_type": "stream",
     "text": [
      "\n",
      "done with model where C = 0.9 with MSE 0.0140476190476\n",
      "done with model where C = 1 with MSE 0.0136904761905"
     ]
    },
    {
     "name": "stderr",
     "output_type": "stream",
     "text": [
      "/Users/jamesledoux/anaconda/envs/python3/lib/python3.5/site-packages/sklearn/utils/validation.py:515: DataConversionWarning: A column-vector y was passed when a 1d array was expected. Please change the shape of y to (n_samples, ), for example using ravel().\n",
      "  y = column_or_1d(y, warn=True)\n",
      "/Users/jamesledoux/anaconda/envs/python3/lib/python3.5/site-packages/sklearn/utils/validation.py:515: DataConversionWarning: A column-vector y was passed when a 1d array was expected. Please change the shape of y to (n_samples, ), for example using ravel().\n",
      "  y = column_or_1d(y, warn=True)\n"
     ]
    },
    {
     "name": "stdout",
     "output_type": "stream",
     "text": [
      "\n",
      "done with model where C = 1.1 with MSE 0.0141666666667\n",
      "done with model where C = 1.2 with MSE 0.0145238095238"
     ]
    },
    {
     "name": "stderr",
     "output_type": "stream",
     "text": [
      "/Users/jamesledoux/anaconda/envs/python3/lib/python3.5/site-packages/sklearn/utils/validation.py:515: DataConversionWarning: A column-vector y was passed when a 1d array was expected. Please change the shape of y to (n_samples, ), for example using ravel().\n",
      "  y = column_or_1d(y, warn=True)\n",
      "/Users/jamesledoux/anaconda/envs/python3/lib/python3.5/site-packages/sklearn/utils/validation.py:515: DataConversionWarning: A column-vector y was passed when a 1d array was expected. Please change the shape of y to (n_samples, ), for example using ravel().\n",
      "  y = column_or_1d(y, warn=True)\n"
     ]
    },
    {
     "name": "stdout",
     "output_type": "stream",
     "text": [
      "\n",
      "done with model where C = 1.3 with MSE 0.0138095238095\n",
      "done with model where C = 0.8 with MSE 0.0129761904762"
     ]
    },
    {
     "name": "stderr",
     "output_type": "stream",
     "text": [
      "/Users/jamesledoux/anaconda/envs/python3/lib/python3.5/site-packages/sklearn/utils/validation.py:515: DataConversionWarning: A column-vector y was passed when a 1d array was expected. Please change the shape of y to (n_samples, ), for example using ravel().\n",
      "  y = column_or_1d(y, warn=True)\n",
      "/Users/jamesledoux/anaconda/envs/python3/lib/python3.5/site-packages/sklearn/utils/validation.py:515: DataConversionWarning: A column-vector y was passed when a 1d array was expected. Please change the shape of y to (n_samples, ), for example using ravel().\n",
      "  y = column_or_1d(y, warn=True)\n"
     ]
    },
    {
     "name": "stdout",
     "output_type": "stream",
     "text": [
      "\n",
      "done with model where C = 0.9 with MSE 0.0139285714286\n",
      "done with model where C = 1 with MSE 0.0134523809524"
     ]
    },
    {
     "name": "stderr",
     "output_type": "stream",
     "text": [
      "/Users/jamesledoux/anaconda/envs/python3/lib/python3.5/site-packages/sklearn/utils/validation.py:515: DataConversionWarning: A column-vector y was passed when a 1d array was expected. Please change the shape of y to (n_samples, ), for example using ravel().\n",
      "  y = column_or_1d(y, warn=True)\n",
      "/Users/jamesledoux/anaconda/envs/python3/lib/python3.5/site-packages/sklearn/utils/validation.py:515: DataConversionWarning: A column-vector y was passed when a 1d array was expected. Please change the shape of y to (n_samples, ), for example using ravel().\n",
      "  y = column_or_1d(y, warn=True)\n"
     ]
    },
    {
     "name": "stdout",
     "output_type": "stream",
     "text": [
      "\n",
      "done with model where C = 1.1 with MSE 0.0142857142857\n",
      "done with model where C = 1.2 with MSE 0.0135714285714"
     ]
    },
    {
     "name": "stderr",
     "output_type": "stream",
     "text": [
      "/Users/jamesledoux/anaconda/envs/python3/lib/python3.5/site-packages/sklearn/utils/validation.py:515: DataConversionWarning: A column-vector y was passed when a 1d array was expected. Please change the shape of y to (n_samples, ), for example using ravel().\n",
      "  y = column_or_1d(y, warn=True)\n",
      "/Users/jamesledoux/anaconda/envs/python3/lib/python3.5/site-packages/sklearn/utils/validation.py:515: DataConversionWarning: A column-vector y was passed when a 1d array was expected. Please change the shape of y to (n_samples, ), for example using ravel().\n",
      "  y = column_or_1d(y, warn=True)\n"
     ]
    },
    {
     "name": "stdout",
     "output_type": "stream",
     "text": [
      "\n",
      "done with model where C = 1.3 with MSE 0.0139285714286\n",
      "done with model where C = 0.8 with MSE 0.0167857142857"
     ]
    },
    {
     "name": "stderr",
     "output_type": "stream",
     "text": [
      "/Users/jamesledoux/anaconda/envs/python3/lib/python3.5/site-packages/sklearn/utils/validation.py:515: DataConversionWarning: A column-vector y was passed when a 1d array was expected. Please change the shape of y to (n_samples, ), for example using ravel().\n",
      "  y = column_or_1d(y, warn=True)\n",
      "/Users/jamesledoux/anaconda/envs/python3/lib/python3.5/site-packages/sklearn/utils/validation.py:515: DataConversionWarning: A column-vector y was passed when a 1d array was expected. Please change the shape of y to (n_samples, ), for example using ravel().\n",
      "  y = column_or_1d(y, warn=True)\n"
     ]
    },
    {
     "name": "stdout",
     "output_type": "stream",
     "text": [
      "\n",
      "done with model where C = 0.9 with MSE 0.0161904761905\n",
      "done with model where C = 1 with MSE 0.0171428571429"
     ]
    },
    {
     "name": "stderr",
     "output_type": "stream",
     "text": [
      "/Users/jamesledoux/anaconda/envs/python3/lib/python3.5/site-packages/sklearn/utils/validation.py:515: DataConversionWarning: A column-vector y was passed when a 1d array was expected. Please change the shape of y to (n_samples, ), for example using ravel().\n",
      "  y = column_or_1d(y, warn=True)\n",
      "/Users/jamesledoux/anaconda/envs/python3/lib/python3.5/site-packages/sklearn/utils/validation.py:515: DataConversionWarning: A column-vector y was passed when a 1d array was expected. Please change the shape of y to (n_samples, ), for example using ravel().\n",
      "  y = column_or_1d(y, warn=True)\n"
     ]
    },
    {
     "name": "stdout",
     "output_type": "stream",
     "text": [
      "\n",
      "done with model where C = 1.1 with MSE 0.0163095238095\n",
      "done with model where C = 1.2 with MSE 0.0158333333333"
     ]
    },
    {
     "name": "stderr",
     "output_type": "stream",
     "text": [
      "/Users/jamesledoux/anaconda/envs/python3/lib/python3.5/site-packages/sklearn/utils/validation.py:515: DataConversionWarning: A column-vector y was passed when a 1d array was expected. Please change the shape of y to (n_samples, ), for example using ravel().\n",
      "  y = column_or_1d(y, warn=True)\n",
      "/Users/jamesledoux/anaconda/envs/python3/lib/python3.5/site-packages/sklearn/utils/validation.py:515: DataConversionWarning: A column-vector y was passed when a 1d array was expected. Please change the shape of y to (n_samples, ), for example using ravel().\n",
      "  y = column_or_1d(y, warn=True)\n"
     ]
    },
    {
     "name": "stdout",
     "output_type": "stream",
     "text": [
      "\n",
      "done with model where C = 1.3 with MSE 0.0161904761905\n",
      "done with model where C = 0.8 with MSE 0.0141666666667"
     ]
    },
    {
     "name": "stderr",
     "output_type": "stream",
     "text": [
      "/Users/jamesledoux/anaconda/envs/python3/lib/python3.5/site-packages/sklearn/utils/validation.py:515: DataConversionWarning: A column-vector y was passed when a 1d array was expected. Please change the shape of y to (n_samples, ), for example using ravel().\n",
      "  y = column_or_1d(y, warn=True)\n",
      "/Users/jamesledoux/anaconda/envs/python3/lib/python3.5/site-packages/sklearn/utils/validation.py:515: DataConversionWarning: A column-vector y was passed when a 1d array was expected. Please change the shape of y to (n_samples, ), for example using ravel().\n",
      "  y = column_or_1d(y, warn=True)\n"
     ]
    },
    {
     "name": "stdout",
     "output_type": "stream",
     "text": [
      "\n",
      "done with model where C = 0.9 with MSE 0.0135714285714\n",
      "done with model where C = 1 with MSE 0.0139285714286"
     ]
    },
    {
     "name": "stderr",
     "output_type": "stream",
     "text": [
      "/Users/jamesledoux/anaconda/envs/python3/lib/python3.5/site-packages/sklearn/utils/validation.py:515: DataConversionWarning: A column-vector y was passed when a 1d array was expected. Please change the shape of y to (n_samples, ), for example using ravel().\n",
      "  y = column_or_1d(y, warn=True)\n",
      "/Users/jamesledoux/anaconda/envs/python3/lib/python3.5/site-packages/sklearn/utils/validation.py:515: DataConversionWarning: A column-vector y was passed when a 1d array was expected. Please change the shape of y to (n_samples, ), for example using ravel().\n",
      "  y = column_or_1d(y, warn=True)\n"
     ]
    },
    {
     "name": "stdout",
     "output_type": "stream",
     "text": [
      "\n",
      "done with model where C = 1.1 with MSE 0.0136904761905\n",
      "done with model where C = 1.2 with MSE 0.0140476190476"
     ]
    },
    {
     "name": "stderr",
     "output_type": "stream",
     "text": [
      "/Users/jamesledoux/anaconda/envs/python3/lib/python3.5/site-packages/sklearn/utils/validation.py:515: DataConversionWarning: A column-vector y was passed when a 1d array was expected. Please change the shape of y to (n_samples, ), for example using ravel().\n",
      "  y = column_or_1d(y, warn=True)\n",
      "/Users/jamesledoux/anaconda/envs/python3/lib/python3.5/site-packages/sklearn/utils/validation.py:515: DataConversionWarning: A column-vector y was passed when a 1d array was expected. Please change the shape of y to (n_samples, ), for example using ravel().\n",
      "  y = column_or_1d(y, warn=True)\n"
     ]
    },
    {
     "name": "stdout",
     "output_type": "stream",
     "text": [
      "\n",
      "done with model where C = 1.3 with MSE 0.0146428571429\n"
     ]
    }
   ],
   "source": [
    "mse_store = []  #a list of each fold's mse list.. the value-wise means will be the CV MSEs\n",
    "\n",
    "for train, test in cv:\n",
    "    train_x = xtrain[train, :]\n",
    "    train_y = ytrain[train]\n",
    "    test_x = xtrain[test, :]\n",
    "    test_y = ytrain[test]\n",
    "    mses = []\n",
    "    for i in range(len(c_values)):\n",
    "        clf= LinearSVC(C = c_values[i],penalty='l1', loss='squared_hinge', dual=False)\n",
    "        clf.fit(train_x, train_y) \n",
    "        preds = clf.predict(test_x)\n",
    "        ys = test_y\n",
    "        ys = pd.DataFrame(ys)\n",
    "        ys = ys.as_matrix()\n",
    "        preds = pd.DataFrame(preds)\n",
    "        preds = preds.as_matrix()\n",
    "        resids = abs(preds - ys)\n",
    "        mse = np.mean(resids)\n",
    "        mses.append(mse)\n",
    "        print(\"done with model where C = \" + str(c_values[i]) + \" with MSE \" + str(mse))\n",
    "    mse_store.append(mses)"
   ]
  },
  {
   "cell_type": "code",
   "execution_count": 66,
   "metadata": {
    "collapsed": false
   },
   "outputs": [
    {
     "name": "stdout",
     "output_type": "stream",
     "text": [
      "[ 0.01454762  0.01452381  0.01466667  0.01478571  0.01480952  0.01478571]\n"
     ]
    },
    {
     "data": {
      "text/plain": [
       "0.9"
      ]
     },
     "execution_count": 66,
     "metadata": {},
     "output_type": "execute_result"
    }
   ],
   "source": [
    "#recover and interpret results from cross validation\n",
    "cvmses = np.vstack(mse_store)\n",
    "#lista = np.zeros(len(mse_store))\n",
    "lista = np.zeros(6)    #number of values in the CV mse list\n",
    "for i in cvmses:\n",
    "    val = 0\n",
    "    for j in i:\n",
    "        lista[val] += j\n",
    "        val += 1\n",
    "for i in range(len(lista)):\n",
    "    lista[i] = lista[i] / 5     #divide sums by number of folds\n",
    "print(lista)\n",
    "\n",
    "#get index of min mse. this is the index of the best C value\n",
    "best_mse = float('inf')\n",
    "best_c = None   #index of best mse in the list\n",
    "for i in range(len(lista)):\n",
    "    if lista[i] < best_mse:\n",
    "        best_mse = lista[i]\n",
    "        best_c = i\n",
    "\n",
    "best_c = c_values[best_c]\n",
    "best_c"
   ]
  },
  {
   "cell_type": "code",
   "execution_count": 151,
   "metadata": {
    "collapsed": false
   },
   "outputs": [
    {
     "data": {
      "text/plain": [
       "<matplotlib.text.Text at 0x11cf9d160>"
      ]
     },
     "execution_count": 151,
     "metadata": {},
     "output_type": "execute_result"
    },
    {
     "data": {
      "image/png": "[encoded data removed]",
      "text/plain": [
       "<matplotlib.figure.Figure at 0x11b921a90>"
      ]
     },
     "metadata": {},
     "output_type": "display_data"
    }
   ],
   "source": [
    "c_values = [.8, .9, 1, 1.1, 1.2, 1.3]\n",
    "lista = [ 0.01454762,  0.01452381,  0.01466667,  0.01478571,  0.01480952,  0.01478571]\n",
    "plt.plot(c_values, lista)\n",
    "plt.ylabel('MSE')\n",
    "plt.xlabel('C value')\n",
    "plt.title('SVM CV Score')"
   ]
  },
  {
   "cell_type": "code",
   "execution_count": 67,
   "metadata": {
    "collapsed": false
   },
   "outputs": [
    {
     "name": "stderr",
     "output_type": "stream",
     "text": [
      "/Users/jamesledoux/anaconda/envs/python3/lib/python3.5/site-packages/sklearn/utils/validation.py:515: DataConversionWarning: A column-vector y was passed when a 1d array was expected. Please change the shape of y to (n_samples, ), for example using ravel().\n",
      "  y = column_or_1d(y, warn=True)\n"
     ]
    }
   ],
   "source": [
    "clf= LinearSVC(C=best_c,penalty='l1', loss='squared_hinge', dual=False)\n",
    "clf.fit(xtrain, ytrain)\n",
    "preds = clf.predict(xtest_final)"
   ]
  },
  {
   "cell_type": "code",
   "execution_count": 68,
   "metadata": {
    "collapsed": false
   },
   "outputs": [
    {
     "name": "stdout",
     "output_type": "stream",
     "text": [
      "final mse is: 0.012571428571428572\n"
     ]
    }
   ],
   "source": [
    "ys = pd.DataFrame(ytest_final.tolist())[0]\n",
    "preds = pd.DataFrame(preds.tolist())[0]\n",
    "resids = abs(preds - ys)\n",
    "mse = np.mean(resids)\n",
    "print(\"final mse is: \" + str(mse))\n",
    "\n",
    "acc_pct = 1 - mse"
   ]
  },
  {
   "cell_type": "code",
   "execution_count": 69,
   "metadata": {
    "collapsed": false
   },
   "outputs": [
    {
     "name": "stdout",
     "output_type": "stream",
     "text": [
      "confusion matrix: \n",
      "[[8811  130]\n",
      " [  46 5013]]\n"
     ]
    },
    {
     "data": {
      "image/png": "[encoded data removed]",
      "text/plain": [
       "<matplotlib.figure.Figure at 0x10538e2e8>"
      ]
     },
     "metadata": {},
     "output_type": "display_data"
    }
   ],
   "source": [
    "def plot_confusion_matrix(cm, title='Confusion matrix', cmap=plt.cm.Blues):\n",
    "    plt.imshow(cm, interpolation='nearest', cmap=cmap)\n",
    "    plt.title(title)\n",
    "    plt.colorbar()\n",
    "    plt.tight_layout()\n",
    "    plt.ylabel('True label')\n",
    "    plt.xlabel('Predicted label')\n",
    "\n",
    "c_mat = confusion_matrix(ys, preds)\n",
    "plot_confusion_matrix(c_mat)\n",
    "print(\"confusion matrix: \")\n",
    "print(str(c_mat))"
   ]
  },
  {
   "cell_type": "code",
   "execution_count": 70,
   "metadata": {
    "collapsed": false
   },
   "outputs": [
    {
     "data": {
      "text/plain": [
       "0.9874285714285714"
      ]
     },
     "execution_count": 70,
     "metadata": {},
     "output_type": "execute_result"
    }
   ],
   "source": [
    "1-mse  #percent accuracy"
   ]
  },
  {
   "cell_type": "code",
   "execution_count": null,
   "metadata": {
    "collapsed": true
   },
   "outputs": [],
   "source": []
  }
 ],
 "metadata": {
  "kernelspec": {
   "display_name": "Python 3",
   "language": "python",
   "name": "python3"
  },
  "language_info": {
   "codemirror_mode": {
    "name": "ipython",
    "version": 3
   },
   "file_extension": ".py",
   "mimetype": "text/x-python",
   "name": "python",
   "nbconvert_exporter": "python",
   "pygments_lexer": "ipython3",
   "version": "3.5.1"
  }
 },
 "nbformat": 4,
 "nbformat_minor": 0
}
